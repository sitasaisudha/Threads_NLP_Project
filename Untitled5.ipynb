{
  "nbformat": 4,
  "nbformat_minor": 0,
  "metadata": {
    "colab": {
      "provenance": []
    },
    "kernelspec": {
      "name": "python3",
      "display_name": "Python 3"
    },
    "language_info": {
      "name": "python"
    }
  },
  "cells": [
    {
      "cell_type": "code",
      "execution_count": 6,
      "metadata": {
        "colab": {
          "base_uri": "https://localhost:8080/"
        },
        "id": "BaQ2xBAFP99u",
        "outputId": "ef42ca22-652d-43e5-84cc-47be3ba40387"
      },
      "outputs": [
        {
          "output_type": "stream",
          "name": "stderr",
          "text": [
            "[nltk_data] Downloading package stopwords to /root/nltk_data...\n",
            "[nltk_data]   Package stopwords is already up-to-date!\n",
            "2023-09-08 10:44:02.192 `label` got an empty value. This is discouraged for accessibility reasons and may be disallowed in the future by raising an exception. Please provide a non-empty label and hide it with label_visibility if needed.\n"
          ]
        }
      ],
      "source": [
        "import streamlit as st\n",
        "import pickle\n",
        "from sklearn.feature_extraction.text import TfidfVectorizer\n",
        "from PIL import Image\n",
        "import re\n",
        "import string\n",
        "import nltk\n",
        "import spacy\n",
        "\n",
        "with open(\"svm_model.pkl\", \"rb\") as file:\n",
        "    model = pickle.load(file)\n",
        "\n",
        "with open(\"tfid_vectorizer.pkl\", \"rb\") as file:\n",
        "    vectorizer = pickle.load(file)\n",
        "\n",
        "nltk.download('stopwords')\n",
        "stopwords = nltk.corpus.stopwords.words('english')\n",
        "\n",
        "def clean_text(text):\n",
        "    text = text.lower()\n",
        "    return text.strip()\n",
        "\n",
        "def remove_punctuation(text):\n",
        "    punctuation_free = \"\".join([i for i in text if i not in string.punctuation])\n",
        "    return punctuation_free\n",
        "\n",
        "def tokenization(text):\n",
        "    tokens = re.split(' ', text)\n",
        "    return tokens\n",
        "\n",
        "def remove_stopwords(text):\n",
        "    output = \" \".join(i for i in text if i not in stopwords)\n",
        "    return output\n",
        "\n",
        "def lemmatizer(text):\n",
        "    nlp = spacy.load('en_core_web_sm')\n",
        "    doc = nlp(text)\n",
        "    sent = [token.lemma_ for token in doc if not token.text in set(stopwords)]\n",
        "    return ' '.join(sent)\n",
        "\n",
        "st.title(\"Sentiment Analysis App\")\n",
        "st.markdown(\"By Sai sudha\")\n",
        "# image = Image.open(\"sentiment.png\")\n",
        "# st.image(image, use_column_width=True)\n",
        "\n",
        "st.subheader(\"Enter your text here:\")\n",
        "user_input = st.text_area(\"\")\n",
        "\n",
        "if user_input:\n",
        "    user_input = clean_text(user_input)\n",
        "    user_input = remove_punctuation(user_input)\n",
        "    user_input = user_input.lower()\n",
        "    user_input = tokenization(user_input)\n",
        "    user_input = remove_stopwords(user_input)\n",
        "    user_input = lemmatizer(user_input)\n",
        "\n",
        "if st.button(\"Predict\"):\n",
        "    if user_input:\n",
        "        text_vectorized = vectorizer.transform([user_input])\n",
        "        prediction = model.predict(text_vectorized)[0]\n",
        "        st.header(\"Prediction:\")\n",
        "        if prediction == -1:\n",
        "            st.subheader(\"The sentiment of the given text is: Negative\")\n",
        "        elif prediction == 0:\n",
        "            st.subheader(\"The sentiment of the given text is: Neutral\")\n",
        "        elif prediction == 1:\n",
        "            st.subheader(\"The sentiment of the given text is: Positive\")\n",
        "    else:\n",
        "        st.subheader(\"Please enter a text for prediction.\")"
      ]
    },
    {
      "cell_type": "code",
      "source": [],
      "metadata": {
        "id": "UEWJTtkKZEL2"
      },
      "execution_count": null,
      "outputs": []
    }
  ]
}